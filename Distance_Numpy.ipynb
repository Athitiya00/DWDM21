{
  "nbformat": 4,
  "nbformat_minor": 0,
  "metadata": {
    "colab": {
      "name": "Distance_Numpy.ipynb",
      "provenance": [],
      "authorship_tag": "ABX9TyPMxrtoR2O0kdOvukprHGkD",
      "include_colab_link": true
    },
    "kernelspec": {
      "name": "python3",
      "display_name": "Python 3"
    },
    "language_info": {
      "name": "python"
    }
  },
  "cells": [
    {
      "cell_type": "markdown",
      "metadata": {
        "id": "view-in-github",
        "colab_type": "text"
      },
      "source": [
        "<a href=\"https://colab.research.google.com/github/Athitiya00/DWDM21/blob/main/Distance_Numpy.ipynb\" target=\"_parent\"><img src=\"https://colab.research.google.com/assets/colab-badge.svg\" alt=\"Open In Colab\"/></a>"
      ]
    },
    {
      "cell_type": "code",
      "metadata": {
        "id": "oA0-Rm_3SZYT"
      },
      "source": [
        "import numpy as np        # package สำหรับทำงานกับข้อมูลที่เป็นตัวเลข (อยู่ในรูปแบบ matrix)"
      ],
      "execution_count": 53,
      "outputs": []
    },
    {
      "cell_type": "markdown",
      "metadata": {
        "id": "aTeVNN07SmPw"
      },
      "source": [
        "# Numpy array\n",
        "\n",
        "## สร้าง numpy array"
      ]
    },
    {
      "cell_type": "code",
      "metadata": {
        "id": "egFP5dyjSqWm"
      },
      "source": [
        "np_a = np.array([[1,2,3],[4,5,6]])     # สร้าง numpy array ที่มี 2 แถว 3 หลัก"
      ],
      "execution_count": 54,
      "outputs": []
    },
    {
      "cell_type": "code",
      "metadata": {
        "colab": {
          "base_uri": "https://localhost:8080/"
        },
        "id": "cuStQnInSsMB",
        "outputId": "222062cd-c8f7-48ce-c96d-4868031d53ec"
      },
      "source": [
        "np_a"
      ],
      "execution_count": 55,
      "outputs": [
        {
          "output_type": "execute_result",
          "data": {
            "text/plain": [
              "array([[1, 2, 3],\n",
              "       [4, 5, 6]])"
            ]
          },
          "metadata": {},
          "execution_count": 55
        }
      ]
    },
    {
      "cell_type": "code",
      "metadata": {
        "colab": {
          "base_uri": "https://localhost:8080/"
        },
        "id": "NDTAGZwmSt4p",
        "outputId": "a0aabfba-a4c0-4b2b-9ebd-6d217519a741"
      },
      "source": [
        "np_a.shape"
      ],
      "execution_count": 56,
      "outputs": [
        {
          "output_type": "execute_result",
          "data": {
            "text/plain": [
              "(2, 3)"
            ]
          },
          "metadata": {},
          "execution_count": 56
        }
      ]
    },
    {
      "cell_type": "code",
      "metadata": {
        "colab": {
          "base_uri": "https://localhost:8080/"
        },
        "id": "wJolxQ9iSvmd",
        "outputId": "964f780a-9b1e-485b-9d0c-6d5ac1e18be4"
      },
      "source": [
        "np_b = np.array([[1,4],[2,5],[3,6]])\n",
        "np_b"
      ],
      "execution_count": 57,
      "outputs": [
        {
          "output_type": "execute_result",
          "data": {
            "text/plain": [
              "array([[1, 4],\n",
              "       [2, 5],\n",
              "       [3, 6]])"
            ]
          },
          "metadata": {},
          "execution_count": 57
        }
      ]
    },
    {
      "cell_type": "markdown",
      "metadata": {
        "id": "JJXZjZJ2SzGo"
      },
      "source": [
        "## matrix transpose"
      ]
    },
    {
      "cell_type": "code",
      "metadata": {
        "colab": {
          "base_uri": "https://localhost:8080/"
        },
        "id": "4f_Rm2ODSxDQ",
        "outputId": "dd32083b-8f6b-46fa-d882-bdef370c9efc"
      },
      "source": [
        "np_a.T"
      ],
      "execution_count": 58,
      "outputs": [
        {
          "output_type": "execute_result",
          "data": {
            "text/plain": [
              "array([[1, 4],\n",
              "       [2, 5],\n",
              "       [3, 6]])"
            ]
          },
          "metadata": {},
          "execution_count": 58
        }
      ]
    },
    {
      "cell_type": "markdown",
      "metadata": {
        "id": "43KB8zL7S7Ae"
      },
      "source": [
        "## สร้าง matrix เริ่มต้น (zeros, ones)"
      ]
    },
    {
      "cell_type": "code",
      "metadata": {
        "colab": {
          "base_uri": "https://localhost:8080/"
        },
        "id": "C7mgQSZYS8HF",
        "outputId": "db37ab4b-1c60-406b-f038-87319192a4fd"
      },
      "source": [
        "np_z = np.zeros((4,5))\n",
        "np_z"
      ],
      "execution_count": 59,
      "outputs": [
        {
          "output_type": "execute_result",
          "data": {
            "text/plain": [
              "array([[0., 0., 0., 0., 0.],\n",
              "       [0., 0., 0., 0., 0.],\n",
              "       [0., 0., 0., 0., 0.],\n",
              "       [0., 0., 0., 0., 0.]])"
            ]
          },
          "metadata": {},
          "execution_count": 59
        }
      ]
    },
    {
      "cell_type": "code",
      "metadata": {
        "colab": {
          "base_uri": "https://localhost:8080/"
        },
        "id": "yO-RBxweS-Ip",
        "outputId": "d946d7b5-791c-4e78-eba8-1fd80e35cec0"
      },
      "source": [
        "np_o = np.ones((5,6))\n",
        "np_o"
      ],
      "execution_count": 60,
      "outputs": [
        {
          "output_type": "execute_result",
          "data": {
            "text/plain": [
              "array([[1., 1., 1., 1., 1., 1.],\n",
              "       [1., 1., 1., 1., 1., 1.],\n",
              "       [1., 1., 1., 1., 1., 1.],\n",
              "       [1., 1., 1., 1., 1., 1.],\n",
              "       [1., 1., 1., 1., 1., 1.]])"
            ]
          },
          "metadata": {},
          "execution_count": 60
        }
      ]
    },
    {
      "cell_type": "code",
      "metadata": {
        "colab": {
          "base_uri": "https://localhost:8080/"
        },
        "id": "tR9iVqFOTAX8",
        "outputId": "15281d5f-3b46-47d9-929f-a7ff48c684f6"
      },
      "source": [
        "np_200 = 200 * np.ones((4,7))\n",
        "np_200"
      ],
      "execution_count": 61,
      "outputs": [
        {
          "output_type": "execute_result",
          "data": {
            "text/plain": [
              "array([[200., 200., 200., 200., 200., 200., 200.],\n",
              "       [200., 200., 200., 200., 200., 200., 200.],\n",
              "       [200., 200., 200., 200., 200., 200., 200.],\n",
              "       [200., 200., 200., 200., 200., 200., 200.]])"
            ]
          },
          "metadata": {},
          "execution_count": 61
        }
      ]
    },
    {
      "cell_type": "markdown",
      "metadata": {
        "id": "Xv8bt4eSTEfg"
      },
      "source": [
        "## สร้าง matrix random"
      ]
    },
    {
      "cell_type": "code",
      "metadata": {
        "colab": {
          "base_uri": "https://localhost:8080/"
        },
        "id": "ivgZMxlITCyo",
        "outputId": "077a417f-9a9d-439f-ed41-8bc1f124a706"
      },
      "source": [
        "np.random.randn(5,5)     #random เลขมาจาก normal distribution ที่มี mu=0 std=1"
      ],
      "execution_count": 62,
      "outputs": [
        {
          "output_type": "execute_result",
          "data": {
            "text/plain": [
              "array([[-0.22831612, -0.30122928, -0.46948557, -0.30421199,  0.85119692],\n",
              "       [-1.65841294, -0.49914723, -0.95220414, -0.14233773, -0.46659542],\n",
              "       [-1.31333136, -2.31172088, -1.22551525,  0.02649095, -0.87221813],\n",
              "       [-1.94114923, -0.50691157,  0.2028022 , -0.72733835,  0.41135515],\n",
              "       [-1.57437845, -1.64089736,  1.0828406 ,  1.02992285,  1.52374189]])"
            ]
          },
          "metadata": {},
          "execution_count": 62
        }
      ]
    },
    {
      "cell_type": "code",
      "metadata": {
        "colab": {
          "base_uri": "https://localhost:8080/"
        },
        "id": "cQuOnSl-THL5",
        "outputId": "f6d115fd-c928-4d9e-bf37-ed8c21198bae"
      },
      "source": [
        "2*(5*np.random.randn(3,3))     #random เลขมาจาก normal distribution ที่มี mu=2 std=5"
      ],
      "execution_count": 63,
      "outputs": [
        {
          "output_type": "execute_result",
          "data": {
            "text/plain": [
              "array([[ 10.32609943, -10.35943952,   7.03756308],\n",
              "       [ -4.28366319,  -8.19187883, -20.41583817],\n",
              "       [  7.96616388,  -4.50258908,  11.38190565]])"
            ]
          },
          "metadata": {},
          "execution_count": 63
        }
      ]
    },
    {
      "cell_type": "code",
      "metadata": {
        "colab": {
          "base_uri": "https://localhost:8080/"
        },
        "id": "HLzfpz0rTIky",
        "outputId": "59d4b9db-567a-4ee1-e25d-baaf6b11db27"
      },
      "source": [
        "np.random.randint(5,11,(4,5))     # random เลขจำนวนเต็ม ระหว่าง (5,11) ขนาด (4x5)"
      ],
      "execution_count": 64,
      "outputs": [
        {
          "output_type": "execute_result",
          "data": {
            "text/plain": [
              "array([[10, 10,  5,  5,  9],\n",
              "       [ 8,  7,  8, 10, 10],\n",
              "       [10, 10,  8,  5,  5],\n",
              "       [ 5, 10,  9,  9,  8]])"
            ]
          },
          "metadata": {},
          "execution_count": 64
        }
      ]
    },
    {
      "cell_type": "markdown",
      "metadata": {
        "id": "oXt2PTB9Orr6"
      },
      "source": [
        "## matix properties"
      ]
    },
    {
      "cell_type": "code",
      "metadata": {
        "id": "btdt1fxeTKIR",
        "outputId": "9248286e-eb25-4728-ece4-104781076ade",
        "colab": {
          "base_uri": "https://localhost:8080/"
        }
      },
      "source": [
        "np_a"
      ],
      "execution_count": 65,
      "outputs": [
        {
          "output_type": "execute_result",
          "data": {
            "text/plain": [
              "array([[1, 2, 3],\n",
              "       [4, 5, 6]])"
            ]
          },
          "metadata": {},
          "execution_count": 65
        }
      ]
    },
    {
      "cell_type": "code",
      "metadata": {
        "id": "iuvLDg4fO3Et",
        "outputId": "1e7cf993-72d6-4c7d-853f-1fbe4c6ce84e",
        "colab": {
          "base_uri": "https://localhost:8080/"
        }
      },
      "source": [
        "np_a.T #transpose"
      ],
      "execution_count": 66,
      "outputs": [
        {
          "output_type": "execute_result",
          "data": {
            "text/plain": [
              "array([[1, 4],\n",
              "       [2, 5],\n",
              "       [3, 6]])"
            ]
          },
          "metadata": {},
          "execution_count": 66
        }
      ]
    },
    {
      "cell_type": "code",
      "metadata": {
        "id": "qYhQFdbhO57n",
        "outputId": "b143a27f-f9ef-4e07-a9a0-585da2d4a66c",
        "colab": {
          "base_uri": "https://localhost:8080/"
        }
      },
      "source": [
        "1+np_a #add scalar to matix บวก"
      ],
      "execution_count": 67,
      "outputs": [
        {
          "output_type": "execute_result",
          "data": {
            "text/plain": [
              "array([[2, 3, 4],\n",
              "       [5, 6, 7]])"
            ]
          },
          "metadata": {},
          "execution_count": 67
        }
      ]
    },
    {
      "cell_type": "code",
      "metadata": {
        "id": "uLEC78g5PEWQ",
        "outputId": "99a3b20d-88ba-434e-f795-f42147cb857d",
        "colab": {
          "base_uri": "https://localhost:8080/"
        }
      },
      "source": [
        "2*np_a #muliply scalar to matrix คูณ"
      ],
      "execution_count": 68,
      "outputs": [
        {
          "output_type": "execute_result",
          "data": {
            "text/plain": [
              "array([[ 2,  4,  6],\n",
              "       [ 8, 10, 12]])"
            ]
          },
          "metadata": {},
          "execution_count": 68
        }
      ]
    },
    {
      "cell_type": "code",
      "metadata": {
        "id": "B34-vtaFPP9t"
      },
      "source": [
        "np_c = np.array([[6,5,4],[3,2,1]])"
      ],
      "execution_count": 69,
      "outputs": []
    },
    {
      "cell_type": "code",
      "metadata": {
        "id": "t2_5RihvPixF",
        "outputId": "032dc359-2263-48a3-e99a-f75d641858b5",
        "colab": {
          "base_uri": "https://localhost:8080/"
        }
      },
      "source": [
        "np_a+np_c #adding matix to matix"
      ],
      "execution_count": 70,
      "outputs": [
        {
          "output_type": "execute_result",
          "data": {
            "text/plain": [
              "array([[7, 7, 7],\n",
              "       [7, 7, 7]])"
            ]
          },
          "metadata": {},
          "execution_count": 70
        }
      ]
    },
    {
      "cell_type": "code",
      "metadata": {
        "id": "VhwYVDdSQDnb",
        "outputId": "ca9c43ed-518d-41d6-a384-98f2aa9464de",
        "colab": {
          "base_uri": "https://localhost:8080/"
        }
      },
      "source": [
        "np_a.shape"
      ],
      "execution_count": 71,
      "outputs": [
        {
          "output_type": "execute_result",
          "data": {
            "text/plain": [
              "(2, 3)"
            ]
          },
          "metadata": {},
          "execution_count": 71
        }
      ]
    },
    {
      "cell_type": "code",
      "metadata": {
        "id": "SFexGBUyQGtb",
        "outputId": "c7332291-c23d-458e-a312-2ca872b8cc8c",
        "colab": {
          "base_uri": "https://localhost:8080/"
        }
      },
      "source": [
        "np_c.shape"
      ],
      "execution_count": 72,
      "outputs": [
        {
          "output_type": "execute_result",
          "data": {
            "text/plain": [
              "(2, 3)"
            ]
          },
          "metadata": {},
          "execution_count": 72
        }
      ]
    },
    {
      "cell_type": "code",
      "metadata": {
        "id": "9lOuQvEgQph2",
        "outputId": "2d920906-0142-4b92-b1fc-ddc94ab3d2a3",
        "colab": {
          "base_uri": "https://localhost:8080/"
        }
      },
      "source": [
        "np_c.T.shape"
      ],
      "execution_count": 73,
      "outputs": [
        {
          "output_type": "execute_result",
          "data": {
            "text/plain": [
              "(3, 2)"
            ]
          },
          "metadata": {},
          "execution_count": 73
        }
      ]
    },
    {
      "cell_type": "code",
      "metadata": {
        "id": "W6sfoEiuQJ_I",
        "outputId": "0b99c670-8469-4511-d582-f6f607a4e8d8",
        "colab": {
          "base_uri": "https://localhost:8080/"
        }
      },
      "source": [
        "np.dot(np_a,np_c.T) # multipling matrix to matix (a,b) x (b,c) =(a,c) คูณเมทริคกับเมทริค"
      ],
      "execution_count": 74,
      "outputs": [
        {
          "output_type": "execute_result",
          "data": {
            "text/plain": [
              "array([[28, 10],\n",
              "       [73, 28]])"
            ]
          },
          "metadata": {},
          "execution_count": 74
        }
      ]
    },
    {
      "cell_type": "markdown",
      "metadata": {
        "id": "DrpZdTcjR7zX"
      },
      "source": [
        "## Indexing&Slicing"
      ]
    },
    {
      "cell_type": "code",
      "metadata": {
        "id": "z3hxART3Q1QB",
        "outputId": "4e0c9fdd-2757-4e51-9a52-17aba6b76073",
        "colab": {
          "base_uri": "https://localhost:8080/"
        }
      },
      "source": [
        "np_a"
      ],
      "execution_count": 75,
      "outputs": [
        {
          "output_type": "execute_result",
          "data": {
            "text/plain": [
              "array([[1, 2, 3],\n",
              "       [4, 5, 6]])"
            ]
          },
          "metadata": {},
          "execution_count": 75
        }
      ]
    },
    {
      "cell_type": "code",
      "metadata": {
        "id": "s_kLlcMESEqa",
        "outputId": "bfa2db55-e401-477f-c365-4d00f5a0b847",
        "colab": {
          "base_uri": "https://localhost:8080/"
        }
      },
      "source": [
        "np_a[1,1]#ชี้"
      ],
      "execution_count": 76,
      "outputs": [
        {
          "output_type": "execute_result",
          "data": {
            "text/plain": [
              "5"
            ]
          },
          "metadata": {},
          "execution_count": 76
        }
      ]
    },
    {
      "cell_type": "code",
      "metadata": {
        "id": "Z8OPl4c7SH0X",
        "outputId": "17638d6b-96a0-4070-b776-07fd9c7bc1fd",
        "colab": {
          "base_uri": "https://localhost:8080/"
        }
      },
      "source": [
        "np_a[:2,:2] #ตัด สไลด์ เอาตัวแรกถึงตัวที่2ข้างหลังไม่เอา"
      ],
      "execution_count": 77,
      "outputs": [
        {
          "output_type": "execute_result",
          "data": {
            "text/plain": [
              "array([[1, 2],\n",
              "       [4, 5]])"
            ]
          },
          "metadata": {},
          "execution_count": 77
        }
      ]
    },
    {
      "cell_type": "code",
      "metadata": {
        "id": "-k5xy6gRSU-k",
        "outputId": "d0d1de65-2f36-4f9b-a8cd-eb1eb1fc589a",
        "colab": {
          "base_uri": "https://localhost:8080/"
        }
      },
      "source": [
        "np_a[0,:]"
      ],
      "execution_count": 78,
      "outputs": [
        {
          "output_type": "execute_result",
          "data": {
            "text/plain": [
              "array([1, 2, 3])"
            ]
          },
          "metadata": {},
          "execution_count": 78
        }
      ]
    },
    {
      "cell_type": "markdown",
      "metadata": {
        "id": "nrbGYRIQSswL"
      },
      "source": [
        "## Useful functions"
      ]
    },
    {
      "cell_type": "code",
      "metadata": {
        "id": "_FyknwLES5Ea",
        "outputId": "49f1348a-70c1-4814-e112-22f5d96952f5",
        "colab": {
          "base_uri": "https://localhost:8080/"
        }
      },
      "source": [
        "np_a"
      ],
      "execution_count": 79,
      "outputs": [
        {
          "output_type": "execute_result",
          "data": {
            "text/plain": [
              "array([[1, 2, 3],\n",
              "       [4, 5, 6]])"
            ]
          },
          "metadata": {},
          "execution_count": 79
        }
      ]
    },
    {
      "cell_type": "code",
      "metadata": {
        "id": "Tv5AU7fuShAt",
        "outputId": "facf8435-9d8f-4b0e-b1ed-7b55db6dda5a",
        "colab": {
          "base_uri": "https://localhost:8080/"
        }
      },
      "source": [
        "np.sum(np_a)#บวกทุกตัวในนั้น"
      ],
      "execution_count": 80,
      "outputs": [
        {
          "output_type": "execute_result",
          "data": {
            "text/plain": [
              "21"
            ]
          },
          "metadata": {},
          "execution_count": 80
        }
      ]
    },
    {
      "cell_type": "code",
      "metadata": {
        "id": "rcY1VT9hS4el",
        "outputId": "35488e89-8397-4b15-c18b-8f874b7c8f86",
        "colab": {
          "base_uri": "https://localhost:8080/"
        }
      },
      "source": [
        "np.sum(np_a,axis=0)#ค่าในแนวนอนทั้งหมดมารวมกัน #axis=0 ก็คือรวมเลขในแต่ละแถว"
      ],
      "execution_count": 81,
      "outputs": [
        {
          "output_type": "execute_result",
          "data": {
            "text/plain": [
              "array([5, 7, 9])"
            ]
          },
          "metadata": {},
          "execution_count": 81
        }
      ]
    },
    {
      "cell_type": "code",
      "metadata": {
        "id": "jdfAIZ15TLCE",
        "outputId": "ba1e90eb-0794-47e4-af96-8a33a1f5504a",
        "colab": {
          "base_uri": "https://localhost:8080/"
        }
      },
      "source": [
        "np.sum(np_a,axis=1)#ค่าในแนวตั้งทั้งหมดมารวมกัน #axis=0 ก็คือรวมเลขในแต่ละหลัก"
      ],
      "execution_count": 82,
      "outputs": [
        {
          "output_type": "execute_result",
          "data": {
            "text/plain": [
              "array([ 6, 15])"
            ]
          },
          "metadata": {},
          "execution_count": 82
        }
      ]
    },
    {
      "cell_type": "code",
      "metadata": {
        "id": "pTKcws1oTVLD",
        "outputId": "6916d3ed-2a2d-4c4c-e247-bcc3f09e1e2b",
        "colab": {
          "base_uri": "https://localhost:8080/"
        }
      },
      "source": [
        "np.mean(np_a)#ดูค่ามีน"
      ],
      "execution_count": 83,
      "outputs": [
        {
          "output_type": "execute_result",
          "data": {
            "text/plain": [
              "3.5"
            ]
          },
          "metadata": {},
          "execution_count": 83
        }
      ]
    },
    {
      "cell_type": "code",
      "metadata": {
        "id": "wiarzi9_Tjrc",
        "outputId": "d2eed657-67b5-4399-9ab1-c17a7f220486",
        "colab": {
          "base_uri": "https://localhost:8080/"
        }
      },
      "source": [
        "np.mean(np_a,axis=0)#หามีนของแต่ละคอลัมน์"
      ],
      "execution_count": 84,
      "outputs": [
        {
          "output_type": "execute_result",
          "data": {
            "text/plain": [
              "array([2.5, 3.5, 4.5])"
            ]
          },
          "metadata": {},
          "execution_count": 84
        }
      ]
    },
    {
      "cell_type": "markdown",
      "metadata": {
        "id": "l_MZInTWUuSv"
      },
      "source": [
        "### วนลูปเอง"
      ]
    },
    {
      "cell_type": "markdown",
      "metadata": {
        "id": "BzfgrHirVAit"
      },
      "source": [
        "####summatiom รวมค่าทุกค่าในarray"
      ]
    },
    {
      "cell_type": "code",
      "metadata": {
        "id": "GHHSiOuDWsyl",
        "outputId": "02e6746c-02ed-4a20-8e6a-b5f92b4e133e",
        "colab": {
          "base_uri": "https://localhost:8080/"
        }
      },
      "source": [
        "np_a.shape"
      ],
      "execution_count": 85,
      "outputs": [
        {
          "output_type": "execute_result",
          "data": {
            "text/plain": [
              "(2, 3)"
            ]
          },
          "metadata": {},
          "execution_count": 85
        }
      ]
    },
    {
      "cell_type": "markdown",
      "metadata": {
        "id": "Ph1dh62uWztN"
      },
      "source": [
        "```np.sum(np_a)```"
      ]
    },
    {
      "cell_type": "code",
      "metadata": {
        "id": "xNQ2r0rUT6Fb",
        "outputId": "44301ad3-7601-4982-bb81-b5fcfc213097",
        "colab": {
          "base_uri": "https://localhost:8080/"
        }
      },
      "source": [
        "sum_all = 0\n",
        "\n",
        "for row in range(np_a.shape[0]):\n",
        "     for col in range(np_a.shape[1]):\n",
        "          sum_all = sum_all + np_a[row,col]\n",
        "          print(f'we are at row={row},col={col} np_a[{row},{col}]={np_a[row,col]} sum_all={sum_all}')\n",
        "print(sum_all)"
      ],
      "execution_count": 86,
      "outputs": [
        {
          "output_type": "stream",
          "text": [
            "we are at row=0,col=0 np_a[0,0]=1 sum_all=1\n",
            "we are at row=0,col=1 np_a[0,1]=2 sum_all=3\n",
            "we are at row=0,col=2 np_a[0,2]=3 sum_all=6\n",
            "we are at row=1,col=0 np_a[1,0]=4 sum_all=10\n",
            "we are at row=1,col=1 np_a[1,1]=5 sum_all=15\n",
            "we are at row=1,col=2 np_a[1,2]=6 sum_all=21\n",
            "21\n"
          ],
          "name": "stdout"
        }
      ]
    },
    {
      "cell_type": "markdown",
      "metadata": {
        "id": "avzU9RVEXHpM"
      },
      "source": [
        "```np.sum(np_a,axis=0)```"
      ]
    },
    {
      "cell_type": "code",
      "metadata": {
        "id": "SDfWOCB5WdBN",
        "outputId": "737e0a23-4e29-412f-d0c2-315cb816a5c0",
        "colab": {
          "base_uri": "https://localhost:8080/"
        }
      },
      "source": [
        "sum_all = np.zeros(np_a.shape[1])\n",
        "\n",
        "for row in range(np_a.shape[0]):\n",
        "     for col in range(np_a.shape[1]):\n",
        "          sum_all[col] = sum_all[col] + np_a[row,col]\n",
        "print(sum_all)"
      ],
      "execution_count": 87,
      "outputs": [
        {
          "output_type": "stream",
          "text": [
            "[5. 7. 9.]\n"
          ],
          "name": "stdout"
        }
      ]
    },
    {
      "cell_type": "markdown",
      "metadata": {
        "id": "mviALMbJYl1H"
      },
      "source": [
        "Quiz กลุ่ม\n",
        "\n",
        "วนลูปหาค่า\n",
        "* ```np.sum(np_a,axis=1)```\n",
        "* ```np.mean(np_a)```\n",
        "* ```np.mean(np_a,axis=0)```\n",
        "* ```np.mean(np_a,axis=1)```\n",
        "* ```np.max(np_a)```\n",
        "* ```np.max(np_a,axis=0)```\n",
        "* ```np.max(np_a,axis=1)```\n",
        "* ```np.min(np_a)```\n",
        "* ```np.min(np_a,axis=0)```\n",
        "* ```np.min(np_a,axis=1)```"
      ]
    },
    {
      "cell_type": "code",
      "metadata": {
        "id": "Y4W_mRJ2fUuf",
        "outputId": "a8e859aa-ca08-498a-ee6f-2b5e5ae6fed9",
        "colab": {
          "base_uri": "https://localhost:8080/"
        }
      },
      "source": [
        "np_a"
      ],
      "execution_count": 88,
      "outputs": [
        {
          "output_type": "execute_result",
          "data": {
            "text/plain": [
              "array([[1, 2, 3],\n",
              "       [4, 5, 6]])"
            ]
          },
          "metadata": {},
          "execution_count": 88
        }
      ]
    },
    {
      "cell_type": "code",
      "metadata": {
        "id": "Jgw-i6QNhI6s",
        "outputId": "73f27369-a720-41ac-e4a8-bf594148e80d",
        "colab": {
          "base_uri": "https://localhost:8080/",
          "height": 214
        }
      },
      "source": [
        "### 10. np.min(np_a,axis=1)\n",
        "min_row = np.zeros(np_a.shape[0])\n",
        "\n",
        "for row in range(np_a.shape[0]):\n",
        "   min_row[row] = min(np_a[row,:])\n",
        "print(min_row)"
      ],
      "execution_count": 101,
      "outputs": [
        {
          "output_type": "error",
          "ename": "TypeError",
          "evalue": "ignored",
          "traceback": [
            "\u001b[0;31m---------------------------------------------------------------------------\u001b[0m",
            "\u001b[0;31mTypeError\u001b[0m                                 Traceback (most recent call last)",
            "\u001b[0;32m<ipython-input-101-7e435d0c3b3e>\u001b[0m in \u001b[0;36m<module>\u001b[0;34m()\u001b[0m\n\u001b[1;32m      3\u001b[0m \u001b[0;34m\u001b[0m\u001b[0m\n\u001b[1;32m      4\u001b[0m \u001b[0;32mfor\u001b[0m \u001b[0mrow\u001b[0m \u001b[0;32min\u001b[0m \u001b[0mrange\u001b[0m\u001b[0;34m(\u001b[0m\u001b[0mnp_a\u001b[0m\u001b[0;34m.\u001b[0m\u001b[0mshape\u001b[0m\u001b[0;34m[\u001b[0m\u001b[0;36m0\u001b[0m\u001b[0;34m]\u001b[0m\u001b[0;34m)\u001b[0m\u001b[0;34m:\u001b[0m\u001b[0;34m\u001b[0m\u001b[0;34m\u001b[0m\u001b[0m\n\u001b[0;32m----> 5\u001b[0;31m    \u001b[0mmin_row\u001b[0m\u001b[0;34m[\u001b[0m\u001b[0mrow\u001b[0m\u001b[0;34m]\u001b[0m \u001b[0;34m=\u001b[0m \u001b[0mmin\u001b[0m\u001b[0;34m(\u001b[0m\u001b[0mnp_a\u001b[0m\u001b[0;34m[\u001b[0m\u001b[0mrow\u001b[0m\u001b[0;34m,\u001b[0m\u001b[0;34m:\u001b[0m\u001b[0;34m]\u001b[0m\u001b[0;34m)\u001b[0m\u001b[0;34m\u001b[0m\u001b[0;34m\u001b[0m\u001b[0m\n\u001b[0m\u001b[1;32m      6\u001b[0m \u001b[0mprint\u001b[0m\u001b[0;34m(\u001b[0m\u001b[0mmin_row\u001b[0m\u001b[0;34m)\u001b[0m\u001b[0;34m\u001b[0m\u001b[0;34m\u001b[0m\u001b[0m\n",
            "\u001b[0;31mTypeError\u001b[0m: 'numpy.ndarray' object is not callable"
          ]
        }
      ]
    },
    {
      "cell_type": "code",
      "metadata": {
        "id": "At46rC3cjFYj"
      },
      "source": [
        ""
      ],
      "execution_count": null,
      "outputs": []
    }
  ]
}