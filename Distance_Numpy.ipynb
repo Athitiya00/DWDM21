{
  "nbformat": 4,
  "nbformat_minor": 0,
  "metadata": {
    "colab": {
      "name": "Distance_Numpy.ipynb",
      "provenance": [],
      "authorship_tag": "ABX9TyPgOnMRXLI8qdlIayf5rT2A",
      "include_colab_link": true
    },
    "kernelspec": {
      "name": "python3",
      "display_name": "Python 3"
    },
    "language_info": {
      "name": "python"
    }
  },
  "cells": [
    {
      "cell_type": "markdown",
      "metadata": {
        "id": "view-in-github",
        "colab_type": "text"
      },
      "source": [
        "<a href=\"https://colab.research.google.com/github/Athitiya00/DWDM21/blob/main/Distance_Numpy.ipynb\" target=\"_parent\"><img src=\"https://colab.research.google.com/assets/colab-badge.svg\" alt=\"Open In Colab\"/></a>"
      ]
    },
    {
      "cell_type": "code",
      "metadata": {
        "id": "oA0-Rm_3SZYT"
      },
      "source": [
        "import numpy as np        # package สำหรับทำงานกับข้อมูลที่เป็นตัวเลข (อยู่ในรูปแบบ matrix)"
      ],
      "execution_count": 1,
      "outputs": []
    },
    {
      "cell_type": "markdown",
      "metadata": {
        "id": "aTeVNN07SmPw"
      },
      "source": [
        "# Numpy array\n",
        "\n",
        "## สร้าง numpy array"
      ]
    },
    {
      "cell_type": "code",
      "metadata": {
        "id": "egFP5dyjSqWm"
      },
      "source": [
        "np_a = np.array([[1,2,3],[4,5,6]])     # สร้าง numpy array ที่มี 2 แถว 3 หลัก"
      ],
      "execution_count": 2,
      "outputs": []
    },
    {
      "cell_type": "code",
      "metadata": {
        "colab": {
          "base_uri": "https://localhost:8080/"
        },
        "id": "cuStQnInSsMB",
        "outputId": "816048d4-81d1-4597-86eb-5e5fb9733796"
      },
      "source": [
        "np_a"
      ],
      "execution_count": 3,
      "outputs": [
        {
          "output_type": "execute_result",
          "data": {
            "text/plain": [
              "array([[1, 2, 3],\n",
              "       [4, 5, 6]])"
            ]
          },
          "metadata": {},
          "execution_count": 3
        }
      ]
    },
    {
      "cell_type": "code",
      "metadata": {
        "colab": {
          "base_uri": "https://localhost:8080/"
        },
        "id": "NDTAGZwmSt4p",
        "outputId": "8424fcf3-4648-489c-e3ce-17474c2b3cb5"
      },
      "source": [
        "np_a.shape"
      ],
      "execution_count": 4,
      "outputs": [
        {
          "output_type": "execute_result",
          "data": {
            "text/plain": [
              "(2, 3)"
            ]
          },
          "metadata": {},
          "execution_count": 4
        }
      ]
    },
    {
      "cell_type": "code",
      "metadata": {
        "colab": {
          "base_uri": "https://localhost:8080/"
        },
        "id": "wJolxQ9iSvmd",
        "outputId": "efb27138-d460-4504-8a18-240858293762"
      },
      "source": [
        "np_b = np.array([[1,4],[2,5],[3,6]])\n",
        "np_b"
      ],
      "execution_count": 5,
      "outputs": [
        {
          "output_type": "execute_result",
          "data": {
            "text/plain": [
              "array([[1, 4],\n",
              "       [2, 5],\n",
              "       [3, 6]])"
            ]
          },
          "metadata": {},
          "execution_count": 5
        }
      ]
    },
    {
      "cell_type": "markdown",
      "metadata": {
        "id": "JJXZjZJ2SzGo"
      },
      "source": [
        "## matrix transpose"
      ]
    },
    {
      "cell_type": "code",
      "metadata": {
        "colab": {
          "base_uri": "https://localhost:8080/"
        },
        "id": "4f_Rm2ODSxDQ",
        "outputId": "6398a04f-8d01-4db6-d188-6e0d5139bcdf"
      },
      "source": [
        "np_a.T"
      ],
      "execution_count": 6,
      "outputs": [
        {
          "output_type": "execute_result",
          "data": {
            "text/plain": [
              "array([[1, 4],\n",
              "       [2, 5],\n",
              "       [3, 6]])"
            ]
          },
          "metadata": {},
          "execution_count": 6
        }
      ]
    },
    {
      "cell_type": "markdown",
      "metadata": {
        "id": "43KB8zL7S7Ae"
      },
      "source": [
        "## สร้าง matrix เริ่มต้น (zeros, ones)"
      ]
    },
    {
      "cell_type": "code",
      "metadata": {
        "colab": {
          "base_uri": "https://localhost:8080/"
        },
        "id": "C7mgQSZYS8HF",
        "outputId": "289223f8-bb54-4ff4-d026-8acf203d4c22"
      },
      "source": [
        "np_z = np.zeros((4,5))\n",
        "np_z"
      ],
      "execution_count": 7,
      "outputs": [
        {
          "output_type": "execute_result",
          "data": {
            "text/plain": [
              "array([[0., 0., 0., 0., 0.],\n",
              "       [0., 0., 0., 0., 0.],\n",
              "       [0., 0., 0., 0., 0.],\n",
              "       [0., 0., 0., 0., 0.]])"
            ]
          },
          "metadata": {},
          "execution_count": 7
        }
      ]
    },
    {
      "cell_type": "code",
      "metadata": {
        "colab": {
          "base_uri": "https://localhost:8080/"
        },
        "id": "yO-RBxweS-Ip",
        "outputId": "32d9a217-40dc-4542-ae6d-9c76381e61d1"
      },
      "source": [
        "np_o = np.ones((5,6))\n",
        "np_o"
      ],
      "execution_count": 8,
      "outputs": [
        {
          "output_type": "execute_result",
          "data": {
            "text/plain": [
              "array([[1., 1., 1., 1., 1., 1.],\n",
              "       [1., 1., 1., 1., 1., 1.],\n",
              "       [1., 1., 1., 1., 1., 1.],\n",
              "       [1., 1., 1., 1., 1., 1.],\n",
              "       [1., 1., 1., 1., 1., 1.]])"
            ]
          },
          "metadata": {},
          "execution_count": 8
        }
      ]
    },
    {
      "cell_type": "code",
      "metadata": {
        "colab": {
          "base_uri": "https://localhost:8080/"
        },
        "id": "tR9iVqFOTAX8",
        "outputId": "8d02dcee-6d15-46ea-9f76-dedcf675d607"
      },
      "source": [
        "np_200 = 200 * np.ones((4,7))\n",
        "np_200"
      ],
      "execution_count": 9,
      "outputs": [
        {
          "output_type": "execute_result",
          "data": {
            "text/plain": [
              "array([[200., 200., 200., 200., 200., 200., 200.],\n",
              "       [200., 200., 200., 200., 200., 200., 200.],\n",
              "       [200., 200., 200., 200., 200., 200., 200.],\n",
              "       [200., 200., 200., 200., 200., 200., 200.]])"
            ]
          },
          "metadata": {},
          "execution_count": 9
        }
      ]
    },
    {
      "cell_type": "markdown",
      "metadata": {
        "id": "Xv8bt4eSTEfg"
      },
      "source": [
        "## สร้าง matrix random"
      ]
    },
    {
      "cell_type": "code",
      "metadata": {
        "colab": {
          "base_uri": "https://localhost:8080/"
        },
        "id": "ivgZMxlITCyo",
        "outputId": "417117b9-cb1c-4900-d82d-4c343972c160"
      },
      "source": [
        "np.random.randn(5,5)     #random เลขมาจาก normal distribution ที่มี mu=0 std=1"
      ],
      "execution_count": 10,
      "outputs": [
        {
          "output_type": "execute_result",
          "data": {
            "text/plain": [
              "array([[-0.88273696, -0.85037083, -0.13908353,  1.13693174,  0.20803028],\n",
              "       [-0.60879294, -0.66214839,  0.0966342 , -0.44931892,  0.79365661],\n",
              "       [ 0.2699609 , -1.07634613,  0.14348203,  0.11900443, -0.19993552],\n",
              "       [ 0.94409801,  0.42596892, -0.85183176, -1.84910512, -0.40594871],\n",
              "       [ 0.38161064,  1.013914  ,  0.58068785, -1.44576329,  0.14515972]])"
            ]
          },
          "metadata": {},
          "execution_count": 10
        }
      ]
    },
    {
      "cell_type": "code",
      "metadata": {
        "colab": {
          "base_uri": "https://localhost:8080/"
        },
        "id": "cQuOnSl-THL5",
        "outputId": "a6e7a2a2-ef41-41c8-f6f2-b6c02aa47a04"
      },
      "source": [
        "2*(5*np.random.randn(3,3))     #random เลขมาจาก normal distribution ที่มี mu=2 std=5"
      ],
      "execution_count": 11,
      "outputs": [
        {
          "output_type": "execute_result",
          "data": {
            "text/plain": [
              "array([[  2.78923031,   0.14903717,   4.04700159],\n",
              "       [  5.18330216, -17.51320179,  21.62090164],\n",
              "       [ 19.83303923,  -9.0808084 ,  -1.67303394]])"
            ]
          },
          "metadata": {},
          "execution_count": 11
        }
      ]
    },
    {
      "cell_type": "code",
      "metadata": {
        "colab": {
          "base_uri": "https://localhost:8080/"
        },
        "id": "HLzfpz0rTIky",
        "outputId": "45a701bb-e1df-4552-dbed-14a99d2d244b"
      },
      "source": [
        "np.random.randint(5,11,(4,5))     # random เลขจำนวนเต็ม ระหว่าง (5,11) ขนาด (4x5)"
      ],
      "execution_count": 12,
      "outputs": [
        {
          "output_type": "execute_result",
          "data": {
            "text/plain": [
              "array([[ 9,  8,  6, 10, 10],\n",
              "       [10,  5,  6,  6,  5],\n",
              "       [10,  9,  9,  7, 10],\n",
              "       [ 5,  9,  6,  6, 10]])"
            ]
          },
          "metadata": {},
          "execution_count": 12
        }
      ]
    },
    {
      "cell_type": "code",
      "metadata": {
        "id": "btdt1fxeTKIR"
      },
      "source": [
        ""
      ],
      "execution_count": null,
      "outputs": []
    }
  ]
}